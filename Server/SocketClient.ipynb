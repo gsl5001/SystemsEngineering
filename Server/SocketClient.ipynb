{
 "cells": [
  {
   "cell_type": "code",
   "execution_count": 15,
   "id": "437f0a2f-ebc9-45db-9be4-1731bbd56163",
   "metadata": {},
   "outputs": [
    {
     "name": "stdout",
     "output_type": "stream",
     "text": [
      "Response: {\"status\": \"success\", \"message\": \"Hello from device!\"}\n"
     ]
    }
   ],
   "source": [
    "import http.client\n",
    "import json\n",
    "\n",
    "conn = http.client.HTTPConnection(\"172.22.11.2\", 8080)\n",
    "conn.request(\"GET\", \"/get_data\")\n",
    "response = conn.getresponse()\n",
    "\n",
    "if response.status == 200:\n",
    "    data = response.read().decode(\"utf-8\")\n",
    "    print(f\"Response: {data}\")\n",
    "else:\n",
    "    print(f\"Error {response.status}: {response.reason}\")\n",
    "\n",
    "conn.close()\n"
   ]
  },
  {
   "cell_type": "code",
   "execution_count": 14,
   "id": "d3f60918-fecf-47ed-9fea-75174eb0f786",
   "metadata": {},
   "outputs": [
    {
     "name": "stdout",
     "output_type": "stream",
     "text": [
      "Server Response: {\"status\": \"success\", \"message\": \"Data received successfully\"}\n"
     ]
    }
   ],
   "source": [
    "import http.client\n",
    "import json\n",
    "\n",
    "conn = http.client.HTTPConnection(\"172.22.11.2\", 8080)\n",
    "headers = {'Content-type': 'application/json'}\n",
    "\n",
    "data = {\n",
    "    \"key\": \"value\",\n",
    "    \"sensor_data\": 123.45\n",
    "}\n",
    "\n",
    "conn.request(\"POST\", \"/send_data\", body=json.dumps(data), headers=headers)\n",
    "response = conn.getresponse()\n",
    "\n",
    "if response.status == 200:\n",
    "    print(f\"Server Response: {response.read().decode()}\")\n",
    "else:\n",
    "    print(f\"Error {response.status}: {response.reason}\")\n",
    "\n",
    "conn.close()\n"
   ]
  },
  {
   "cell_type": "code",
   "execution_count": null,
   "id": "5af73cda-0bab-440e-ba44-07aa9fba27cb",
   "metadata": {},
   "outputs": [],
   "source": []
  },
  {
   "cell_type": "code",
   "execution_count": null,
   "id": "40b595d9-9f41-41c4-beec-53cce2f41e52",
   "metadata": {},
   "outputs": [],
   "source": []
  },
  {
   "cell_type": "code",
   "execution_count": null,
   "id": "ae06e2cc-f7d5-4cfb-a08a-1fa1c218056f",
   "metadata": {},
   "outputs": [],
   "source": []
  },
  {
   "cell_type": "code",
   "execution_count": null,
   "id": "2d01650b-fb0e-46ad-bb4a-c6d52b90b01a",
   "metadata": {},
   "outputs": [],
   "source": []
  },
  {
   "cell_type": "code",
   "execution_count": 17,
   "id": "e9a5b806-08b6-4da2-9147-997ef69f9c61",
   "metadata": {},
   "outputs": [
    {
     "name": "stdout",
     "output_type": "stream",
     "text": [
      "Connecting to the server...\n"
     ]
    },
    {
     "ename": "ConnectionRefusedError",
     "evalue": "[WinError 10061] No connection could be made because the target machine actively refused it",
     "output_type": "error",
     "traceback": [
      "\u001b[31m---------------------------------------------------------------------------\u001b[39m",
      "\u001b[31mConnectionRefusedError\u001b[39m                    Traceback (most recent call last)",
      "\u001b[36mCell\u001b[39m\u001b[36m \u001b[39m\u001b[32mIn[17]\u001b[39m\u001b[32m, line 46\u001b[39m\n\u001b[32m     43\u001b[39m         client_socket.close()\n\u001b[32m     45\u001b[39m \u001b[38;5;28;01mif\u001b[39;00m \u001b[34m__name__\u001b[39m == \u001b[33m\"\u001b[39m\u001b[33m__main__\u001b[39m\u001b[33m\"\u001b[39m:\n\u001b[32m---> \u001b[39m\u001b[32m46\u001b[39m     \u001b[43mrun_client\u001b[49m\u001b[43m(\u001b[49m\u001b[43m)\u001b[49m\n",
      "\u001b[36mCell\u001b[39m\u001b[36m \u001b[39m\u001b[32mIn[17]\u001b[39m\u001b[32m, line 27\u001b[39m, in \u001b[36mrun_client\u001b[39m\u001b[34m()\u001b[39m\n\u001b[32m     25\u001b[39m \u001b[38;5;28;01mdef\u001b[39;00m\u001b[38;5;250m \u001b[39m\u001b[34mrun_client\u001b[39m():\n\u001b[32m     26\u001b[39m     \u001b[38;5;28mprint\u001b[39m(\u001b[33m\"\u001b[39m\u001b[33mConnecting to the server...\u001b[39m\u001b[33m\"\u001b[39m)\n\u001b[32m---> \u001b[39m\u001b[32m27\u001b[39m     client_socket = \u001b[43mconnect_to_relay_server\u001b[49m\u001b[43m(\u001b[49m\u001b[43m)\u001b[49m\n\u001b[32m     29\u001b[39m     \u001b[38;5;28;01mtry\u001b[39;00m:\n\u001b[32m     30\u001b[39m         \u001b[38;5;28;01mwhile\u001b[39;00m \u001b[38;5;28;01mTrue\u001b[39;00m:\n\u001b[32m     31\u001b[39m             \u001b[38;5;66;03m# Send a message to the server\u001b[39;00m\n",
      "\u001b[36mCell\u001b[39m\u001b[36m \u001b[39m\u001b[32mIn[17]\u001b[39m\u001b[32m, line 7\u001b[39m, in \u001b[36mconnect_to_relay_server\u001b[39m\u001b[34m()\u001b[39m\n\u001b[32m      4\u001b[39m \u001b[38;5;28;01mdef\u001b[39;00m\u001b[38;5;250m \u001b[39m\u001b[34mconnect_to_relay_server\u001b[39m():\n\u001b[32m      5\u001b[39m     \u001b[38;5;66;03m# Connect to the relay server on port 9999\u001b[39;00m\n\u001b[32m      6\u001b[39m     client_socket = socket.socket(socket.AF_INET, socket.SOCK_STREAM)\n\u001b[32m----> \u001b[39m\u001b[32m7\u001b[39m     \u001b[43mclient_socket\u001b[49m\u001b[43m.\u001b[49m\u001b[43mconnect\u001b[49m\u001b[43m(\u001b[49m\u001b[43m(\u001b[49m\u001b[33;43m'\u001b[39;49m\u001b[33;43m172.22.11.2\u001b[39;49m\u001b[33;43m'\u001b[39;49m\u001b[43m,\u001b[49m\u001b[43m \u001b[49m\u001b[32;43m9999\u001b[39;49m\u001b[43m)\u001b[49m\u001b[43m)\u001b[49m\n\u001b[32m      9\u001b[39m     \u001b[38;5;66;03m# Get the welcome message from the server\u001b[39;00m\n\u001b[32m     10\u001b[39m     welcome_message = client_socket.recv(\u001b[32m1024\u001b[39m).decode(\u001b[33m'\u001b[39m\u001b[33mutf-8\u001b[39m\u001b[33m'\u001b[39m)\n",
      "\u001b[31mConnectionRefusedError\u001b[39m: [WinError 10061] No connection could be made because the target machine actively refused it"
     ]
    }
   ],
   "source": [
    "import socket\n",
    "import time\n",
    "\n",
    "def connect_to_relay_server():\n",
    "    # Connect to the relay server on port 9999\n",
    "    client_socket = socket.socket(socket.AF_INET, socket.SOCK_STREAM)\n",
    "    client_socket.connect(('172.22.11.2', 9999))\n",
    "\n",
    "    # Get the welcome message from the server\n",
    "    welcome_message = client_socket.recv(1024).decode('utf-8')\n",
    "    print(f\"Server says: {welcome_message}\")\n",
    "\n",
    "    return client_socket\n",
    "\n",
    "def send_message(client_socket, message):\n",
    "    # Send a message to the server\n",
    "    client_socket.send(message.encode('utf-8'))\n",
    "    print(f\"Sent: {message}\")\n",
    "\n",
    "def receive_message(client_socket):\n",
    "    # Wait for a message from the server\n",
    "    message = client_socket.recv(1024).decode('utf-8')\n",
    "    print(f\"Received: {message}\")\n",
    "\n",
    "def run_client():\n",
    "    print(\"Connecting to the server...\")\n",
    "    client_socket = connect_to_relay_server()\n",
    "\n",
    "    try:\n",
    "        while True:\n",
    "            # Send a message to the server\n",
    "            message = input(\"Enter a message to send: \")\n",
    "            if message.lower() == 'exit':\n",
    "                print(\"Closing connection.\")\n",
    "                break\n",
    "\n",
    "            send_message(client_socket, message)\n",
    "            time.sleep(1)  # Give time for the other client to respond\n",
    "            \n",
    "            # Receive message from the other client through the server\n",
    "            receive_message(client_socket)\n",
    "    finally:\n",
    "        client_socket.close()\n",
    "\n",
    "if __name__ == \"__main__\":\n",
    "    run_client()\n"
   ]
  },
  {
   "cell_type": "code",
   "execution_count": null,
   "id": "81a9b4b6-2440-4c66-bfd3-4d869ec86b5b",
   "metadata": {},
   "outputs": [],
   "source": []
  }
 ],
 "metadata": {
  "kernelspec": {
   "display_name": "Python 3 (ipykernel)",
   "language": "python",
   "name": "python3"
  },
  "language_info": {
   "codemirror_mode": {
    "name": "ipython",
    "version": 3
   },
   "file_extension": ".py",
   "mimetype": "text/x-python",
   "name": "python",
   "nbconvert_exporter": "python",
   "pygments_lexer": "ipython3",
   "version": "3.13.2"
  }
 },
 "nbformat": 4,
 "nbformat_minor": 5
}
